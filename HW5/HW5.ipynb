{
 "cells": [
  {
   "cell_type": "markdown",
   "id": "5942e9d6",
   "metadata": {},
   "source": [
    "# Machine Learning with Matrix Data for Recommender Systems"
   ]
  },
  {
   "cell_type": "markdown",
   "id": "0ef2fa9e",
   "metadata": {},
   "source": [
    "\n",
    "1. Recommender systems are a hot topic. Recommendation systems can be formulated as a\n",
    "task of matrix completion in machine learning. Recommender systems aim to predict the\n",
    "rating that a user will give for an item (e.g., a restaurant, a movie, a product).\n",
    "2. Download the movie rating dataset from: https://www.kaggle.com/rounakbanik/themovies-\n",
    "dataset. These files contain metadata for all 45,000 movies listed in the Full\n",
    "MovieLens Dataset. The dataset consists of movies released on or before July 2017. Data\n",
    "points include cast, crew, plot keywords, budget, revenue, posters, release dates, languages,\n",
    "production companies, countries, TMDB vote counts and vote averages. This dataset also\n",
    "has files containing 26 million ratings from 270,000 users for all 45,000 movies. Ratings are\n",
    "on a scale of 1-5 and have been obtained from the official GroupLens website.\n",
    "3. Building a small recommender system with the matrix data: “ratings.csv”. You can use the\n",
    "recommender system library: Surprise (http://surpriselib.com), use other recommender\n",
    "system libraries, or implement from scratches.\n",
    "\n",
    "\n",
    "\n",
    "\n"
   ]
  },
  {
   "cell_type": "code",
   "execution_count": 1,
   "id": "6ac959d3",
   "metadata": {},
   "outputs": [],
   "source": [
    "import pandas as pd\n",
    "import numpy as np\n",
    "import seaborn as sns\n",
    "import matplotlib.pyplot as plt\n",
    "from surprise import SVD\n",
    "from surprise.model_selection import cross_validate\n",
    "from surprise import KNNBasic\n",
    "from surprise import Reader\n",
    "from surprise import Dataset"
   ]
  },
  {
   "cell_type": "markdown",
   "id": "b8c6556a",
   "metadata": {},
   "source": [
    "#### A) Read data from “ratings.csv” with line format: 'userID movieID rating timestamp'"
   ]
  },
  {
   "cell_type": "code",
   "execution_count": 95,
   "id": "b2ff18de",
   "metadata": {},
   "outputs": [],
   "source": [
    "data1 = pd.read_csv(\"archive/ratings_small.csv\")"
   ]
  },
  {
   "cell_type": "code",
   "execution_count": 96,
   "id": "592d346e",
   "metadata": {},
   "outputs": [
    {
     "data": {
      "text/html": [
       "<div>\n",
       "<style scoped>\n",
       "    .dataframe tbody tr th:only-of-type {\n",
       "        vertical-align: middle;\n",
       "    }\n",
       "\n",
       "    .dataframe tbody tr th {\n",
       "        vertical-align: top;\n",
       "    }\n",
       "\n",
       "    .dataframe thead th {\n",
       "        text-align: right;\n",
       "    }\n",
       "</style>\n",
       "<table border=\"1\" class=\"dataframe\">\n",
       "  <thead>\n",
       "    <tr style=\"text-align: right;\">\n",
       "      <th></th>\n",
       "      <th>userId</th>\n",
       "      <th>movieId</th>\n",
       "      <th>rating</th>\n",
       "      <th>timestamp</th>\n",
       "    </tr>\n",
       "  </thead>\n",
       "  <tbody>\n",
       "    <tr>\n",
       "      <th>0</th>\n",
       "      <td>1</td>\n",
       "      <td>31</td>\n",
       "      <td>2.5</td>\n",
       "      <td>1260759144</td>\n",
       "    </tr>\n",
       "    <tr>\n",
       "      <th>1</th>\n",
       "      <td>1</td>\n",
       "      <td>1029</td>\n",
       "      <td>3.0</td>\n",
       "      <td>1260759179</td>\n",
       "    </tr>\n",
       "    <tr>\n",
       "      <th>2</th>\n",
       "      <td>1</td>\n",
       "      <td>1061</td>\n",
       "      <td>3.0</td>\n",
       "      <td>1260759182</td>\n",
       "    </tr>\n",
       "    <tr>\n",
       "      <th>3</th>\n",
       "      <td>1</td>\n",
       "      <td>1129</td>\n",
       "      <td>2.0</td>\n",
       "      <td>1260759185</td>\n",
       "    </tr>\n",
       "    <tr>\n",
       "      <th>4</th>\n",
       "      <td>1</td>\n",
       "      <td>1172</td>\n",
       "      <td>4.0</td>\n",
       "      <td>1260759205</td>\n",
       "    </tr>\n",
       "  </tbody>\n",
       "</table>\n",
       "</div>"
      ],
      "text/plain": [
       "   userId  movieId  rating   timestamp\n",
       "0       1       31     2.5  1260759144\n",
       "1       1     1029     3.0  1260759179\n",
       "2       1     1061     3.0  1260759182\n",
       "3       1     1129     2.0  1260759185\n",
       "4       1     1172     4.0  1260759205"
      ]
     },
     "execution_count": 96,
     "metadata": {},
     "output_type": "execute_result"
    }
   ],
   "source": [
    "data1.head()"
   ]
  },
  {
   "cell_type": "code",
   "execution_count": 97,
   "id": "56d47fc5",
   "metadata": {},
   "outputs": [
    {
     "name": "stdout",
     "output_type": "stream",
     "text": [
      "<class 'pandas.core.frame.DataFrame'>\n",
      "RangeIndex: 100004 entries, 0 to 100003\n",
      "Data columns (total 4 columns):\n",
      " #   Column     Non-Null Count   Dtype  \n",
      "---  ------     --------------   -----  \n",
      " 0   userId     100004 non-null  int64  \n",
      " 1   movieId    100004 non-null  int64  \n",
      " 2   rating     100004 non-null  float64\n",
      " 3   timestamp  100004 non-null  int64  \n",
      "dtypes: float64(1), int64(3)\n",
      "memory usage: 3.1 MB\n"
     ]
    }
   ],
   "source": [
    "data1.info()"
   ]
  },
  {
   "cell_type": "code",
   "execution_count": 98,
   "id": "6c1937a7",
   "metadata": {},
   "outputs": [
    {
     "data": {
      "text/plain": [
       "userId         671\n",
       "movieId       9066\n",
       "rating          10\n",
       "timestamp    78141\n",
       "dtype: int64"
      ]
     },
     "execution_count": 98,
     "metadata": {},
     "output_type": "execute_result"
    }
   ],
   "source": [
    "data1.nunique()"
   ]
  },
  {
   "cell_type": "markdown",
   "id": "94f72e2f",
   "metadata": {},
   "source": [
    "### Reading data with given line format"
   ]
  },
  {
   "cell_type": "code",
   "execution_count": 99,
   "id": "9d3487de",
   "metadata": {},
   "outputs": [],
   "source": [
    "reader = Reader(line_format='user item rating timestamp',sep=',',skip_lines=1)\n",
    "data = Dataset.load_from_file(\"archive/ratings_small.csv\",reader)"
   ]
  },
  {
   "cell_type": "code",
   "execution_count": 100,
   "id": "19b50060",
   "metadata": {},
   "outputs": [
    {
     "data": {
      "text/plain": [
       "<surprise.dataset.DatasetAutoFolds at 0x1734e3fb100>"
      ]
     },
     "execution_count": 100,
     "metadata": {},
     "output_type": "execute_result"
    }
   ],
   "source": [
    "data"
   ]
  },
  {
   "cell_type": "markdown",
   "id": "1b36505b",
   "metadata": {},
   "source": [
    "#### B) MAE and RMSE are two famous metrics for evaluating the performances of a recommender system. The definition of MAE can be found via: https://en.wikipedia.org/wiki/Mean_absolute_error. The definition of RMSE can be found via: https://en.wikipedia.org/wiki/Root-mean-square_deviation.\n",
    "\n",
    "#### C) Compute the average MAE and RMSE of the Probabilistic Matrix Factorization(PMF), User based Collaborative Filtering, Item based Collaborative Filtering, under the 5-folds cross-validation\n",
    "\n",
    "#### D) Compare the average (mean) performances of User-based collaborative filtering, item-based collaborative filtering, PMF with respect to RMSE and MAE. Which ML model is the best in the movie rating data?"
   ]
  },
  {
   "cell_type": "markdown",
   "id": "eb2c7135",
   "metadata": {},
   "source": [
    "### Storing RMSE and MAE in below mentioned variable"
   ]
  },
  {
   "cell_type": "code",
   "execution_count": 192,
   "id": "7727a659",
   "metadata": {},
   "outputs": [],
   "source": [
    "RMSE = []\n",
    "MAE = []"
   ]
  },
  {
   "cell_type": "markdown",
   "id": "475d2325",
   "metadata": {},
   "source": [
    "### Computing average MAE and RMSE for all three filtering algorithms "
   ]
  },
  {
   "cell_type": "markdown",
   "id": "c0ab00b0",
   "metadata": {},
   "source": [
    "## User Based CF"
   ]
  },
  {
   "cell_type": "code",
   "execution_count": 193,
   "id": "686124cf",
   "metadata": {},
   "outputs": [],
   "source": [
    "sim_options = {'user_based': True }\n",
    "algo = KNNBasic(sim_options=sim_options,verbose=False)\n",
    "d = cross_validate(algo,data,measures=['rmse', 'mae'],cv=5,verbose=False)\n",
    "RMSE.append(d['test_rmse'].mean())\n",
    "MAE.append(d['test_mae'].mean())"
   ]
  },
  {
   "cell_type": "markdown",
   "id": "07458918",
   "metadata": {},
   "source": [
    "## Item Based CF"
   ]
  },
  {
   "cell_type": "code",
   "execution_count": 194,
   "id": "b16735b8",
   "metadata": {},
   "outputs": [],
   "source": [
    "sim_options = {'user_based': False }\n",
    "algo = KNNBasic(sim_options=sim_options,verbose=False)\n",
    "d = cross_validate(algo,data,measures=['rmse', 'mae'],cv=5,verbose=False)\n",
    "RMSE.append(d['test_rmse'].mean())\n",
    "MAE.append(d['test_mae'].mean())"
   ]
  },
  {
   "cell_type": "markdown",
   "id": "105cbd99",
   "metadata": {},
   "source": [
    "## PMF"
   ]
  },
  {
   "cell_type": "code",
   "execution_count": 195,
   "id": "e975b24b",
   "metadata": {},
   "outputs": [],
   "source": [
    "algo = SVD(biased=False,verbose=False)\n",
    "d = cross_validate(algo,data,measures=['rmse', 'mae'],cv=5,verbose=False)\n",
    "RMSE.append(d['test_rmse'].mean())\n",
    "MAE.append(d['test_mae'].mean())"
   ]
  },
  {
   "cell_type": "markdown",
   "id": "724a182c",
   "metadata": {},
   "source": [
    "## Comparison of RMSE and MAE for the 3 algorithms"
   ]
  },
  {
   "cell_type": "code",
   "execution_count": 196,
   "id": "1b5c6119",
   "metadata": {},
   "outputs": [
    {
     "data": {
      "text/plain": [
       "[0.9689812751547627, 0.9352164669258389, 1.0114812597752807]"
      ]
     },
     "execution_count": 196,
     "metadata": {},
     "output_type": "execute_result"
    }
   ],
   "source": [
    "RMSE"
   ]
  },
  {
   "cell_type": "code",
   "execution_count": 197,
   "id": "6f52f851",
   "metadata": {},
   "outputs": [
    {
     "data": {
      "text/plain": [
       "[0.7446047668367275, 0.7212822968874251, 0.7809294149223514]"
      ]
     },
     "execution_count": 197,
     "metadata": {},
     "output_type": "execute_result"
    }
   ],
   "source": [
    "MAE"
   ]
  },
  {
   "cell_type": "markdown",
   "id": "e4e55a81",
   "metadata": {},
   "source": [
    "### Ans D) The value of RMSE and MAE is the smallest for User Based CF and is the largest for PMF. Item Based CF Model is the best in the movie rating data."
   ]
  },
  {
   "cell_type": "markdown",
   "id": "4f8c32e0",
   "metadata": {},
   "source": [
    "#### E) Examine how the cosine, MSD (Mean Squared Difference), and Pearson similarities impact the performances of User based Collaborative Filtering and Item based Collaborative Filtering. Plot your results. Is the impact of the three metrics on User based Collaborative Filtering consistent with the impact of the three metrics on Item based Collaborative Filtering?"
   ]
  },
  {
   "cell_type": "code",
   "execution_count": 117,
   "id": "332958ea",
   "metadata": {},
   "outputs": [],
   "source": [
    "UserCF_RMSE = []\n",
    "UserCF_MAE = []\n",
    "ItemCF_RMSE = []\n",
    "ItemCF_MAE = []"
   ]
  },
  {
   "cell_type": "markdown",
   "id": "2b09b52e",
   "metadata": {},
   "source": [
    "## User Based CF"
   ]
  },
  {
   "cell_type": "markdown",
   "id": "002d56e1",
   "metadata": {},
   "source": [
    "### Cosine"
   ]
  },
  {
   "cell_type": "code",
   "execution_count": 118,
   "id": "171f92f4",
   "metadata": {},
   "outputs": [],
   "source": [
    "sim_options = {'name':'cosine','user_based': True }\n",
    "algo = KNNBasic(sim_options=sim_options,verbose=False)\n",
    "d = cross_validate(algo,data,measures=['rmse', 'mae'],cv=5,verbose=False)\n",
    "UserCF_RMSE.append(d['test_rmse'].mean())\n",
    "UserCF_MAE.append(d['test_mae'].mean())"
   ]
  },
  {
   "cell_type": "markdown",
   "id": "2459de81",
   "metadata": {},
   "source": [
    "### MSD"
   ]
  },
  {
   "cell_type": "code",
   "execution_count": 119,
   "id": "a3b14790",
   "metadata": {},
   "outputs": [],
   "source": [
    "sim_options = {'name':'msd','user_based': True }\n",
    "algo = KNNBasic(sim_options=sim_options,verbose=False)\n",
    "d = cross_validate(algo,data,measures=['rmse', 'mae'],cv=5,verbose=False)\n",
    "UserCF_RMSE.append(d['test_rmse'].mean())\n",
    "UserCF_MAE.append(d['test_mae'].mean())"
   ]
  },
  {
   "cell_type": "markdown",
   "id": "172b6e20",
   "metadata": {},
   "source": [
    "### Pearson Baseline"
   ]
  },
  {
   "cell_type": "code",
   "execution_count": 120,
   "id": "c40cda28",
   "metadata": {},
   "outputs": [],
   "source": [
    "sim_options = {'name':'pearson_baseline','user_based': True }\n",
    "algo = KNNBasic(sim_options=sim_options,verbose=False)\n",
    "d = cross_validate(algo,data,measures=['rmse', 'mae'],cv=5,verbose=False)\n",
    "UserCF_RMSE.append(d['test_rmse'].mean())\n",
    "UserCF_MAE.append(d['test_mae'].mean())"
   ]
  },
  {
   "cell_type": "markdown",
   "id": "a9011900",
   "metadata": {},
   "source": [
    "### Plotting the graph"
   ]
  },
  {
   "cell_type": "markdown",
   "id": "f63d8c81",
   "metadata": {},
   "source": [
    "### Plotting the values in the below mentioned sequence:\n",
    "#### Left to Right -> Cosine, MSD and Pearson Baseline"
   ]
  },
  {
   "cell_type": "code",
   "execution_count": 142,
   "id": "e9a1949d",
   "metadata": {},
   "outputs": [
    {
     "data": {
      "text/plain": [
       "<matplotlib.legend.Legend at 0x1734f35a8b0>"
      ]
     },
     "execution_count": 142,
     "metadata": {},
     "output_type": "execute_result"
    },
    {
     "data": {
      "image/png": "[encoded data removed]",
      "text/plain": [
       "<Figure size 432x288 with 1 Axes>"
      ]
     },
     "metadata": {
      "needs_background": "light"
     },
     "output_type": "display_data"
    }
   ],
   "source": [
    "plt.title(\"User Based CF: RMSE and MSE for different distances\")\n",
    "plt.plot(UserCF_RMSE,label = 'RMSE')\n",
    "plt.plot(UserCF_MAE, label = 'MAE')\n",
    "plt.legend()"
   ]
  },
  {
   "cell_type": "markdown",
   "id": "83e235d7",
   "metadata": {},
   "source": [
    "## Item Based CF"
   ]
  },
  {
   "cell_type": "markdown",
   "id": "7432fea4",
   "metadata": {},
   "source": [
    "### Cosine"
   ]
  },
  {
   "cell_type": "code",
   "execution_count": 121,
   "id": "168dcdfd",
   "metadata": {},
   "outputs": [],
   "source": [
    "sim_options = {'name':'cosine','user_based': False }\n",
    "algo = KNNBasic(sim_options=sim_options,verbose=False)\n",
    "d = cross_validate(algo,data,measures=['rmse', 'mae'],cv=5,verbose=False)\n",
    "ItemCF_RMSE.append(d['test_rmse'].mean())\n",
    "ItemCF_MAE.append(d['test_mae'].mean())"
   ]
  },
  {
   "cell_type": "markdown",
   "id": "119a2636",
   "metadata": {},
   "source": [
    "### MSD"
   ]
  },
  {
   "cell_type": "code",
   "execution_count": 122,
   "id": "6cfb9fd2",
   "metadata": {},
   "outputs": [],
   "source": [
    "sim_options = {'name':'msd','user_based': False }\n",
    "algo = KNNBasic(sim_options=sim_options,verbose=False)\n",
    "d = cross_validate(algo,data,measures=['rmse', 'mae'],cv=5,verbose=False)\n",
    "ItemCF_RMSE.append(d['test_rmse'].mean())\n",
    "ItemCF_MAE.append(d['test_mae'].mean())"
   ]
  },
  {
   "cell_type": "markdown",
   "id": "cdd64308",
   "metadata": {},
   "source": [
    "### Pearson Baseline"
   ]
  },
  {
   "cell_type": "code",
   "execution_count": 123,
   "id": "cc49f74c",
   "metadata": {},
   "outputs": [],
   "source": [
    "sim_options = {'name':'pearson_baseline','user_based': False }\n",
    "algo = KNNBasic(sim_options=sim_options,verbose=False)\n",
    "d = cross_validate(algo,data,measures=['rmse', 'mae'],cv=5,verbose=False)\n",
    "ItemCF_RMSE.append(d['test_rmse'].mean())\n",
    "ItemCF_MAE.append(d['test_mae'].mean())"
   ]
  },
  {
   "cell_type": "markdown",
   "id": "f51ed24a",
   "metadata": {},
   "source": [
    "### Plotting the graph"
   ]
  },
  {
   "cell_type": "markdown",
   "id": "8332c1a7",
   "metadata": {},
   "source": [
    "### Plotting the values in the below mentioned sequence:\n",
    "#### Left to Right -> Cosine, MSD and Pearson Baseline"
   ]
  },
  {
   "cell_type": "code",
   "execution_count": 143,
   "id": "d5f6803f",
   "metadata": {},
   "outputs": [
    {
     "data": {
      "text/plain": [
       "<matplotlib.legend.Legend at 0x1734cd5dc70>"
      ]
     },
     "execution_count": 143,
     "metadata": {},
     "output_type": "execute_result"
    },
    {
     "data": {
      "image/png": "[encoded data removed]",
      "text/plain": [
       "<Figure size 432x288 with 1 Axes>"
      ]
     },
     "metadata": {
      "needs_background": "light"
     },
     "output_type": "display_data"
    }
   ],
   "source": [
    "plt.title(\"Item Based CF: RMSE and MSE for different distances\")\n",
    "plt.plot(ItemCF_RMSE,label = 'RMSE')\n",
    "plt.plot(ItemCF_MAE, label = 'MAE')\n",
    "plt.legend()"
   ]
  },
  {
   "cell_type": "markdown",
   "id": "dc277b95",
   "metadata": {},
   "source": [
    "### Ans) The impact of the three metrics on User based Collaborative Filtering is consistent with the impact of the three metrics on Item based Collaborative Filtering"
   ]
  },
  {
   "cell_type": "markdown",
   "id": "c49e0c0b",
   "metadata": {},
   "source": [
    "#### F) Examine how the number of neighbors impacts the performances of User based Collaborative Filtering and Item based Collaborative Filtering? Plot your results. "
   ]
  },
  {
   "cell_type": "markdown",
   "id": "cdf25761",
   "metadata": {},
   "source": [
    "## User Based CF"
   ]
  },
  {
   "cell_type": "code",
   "execution_count": 155,
   "id": "9cfabbf2",
   "metadata": {},
   "outputs": [
    {
     "data": {
      "text/plain": [
       "[<matplotlib.lines.Line2D at 0x1734e876df0>]"
      ]
     },
     "execution_count": 155,
     "metadata": {},
     "output_type": "execute_result"
    },
    {
     "data": {
      "image/png": "[encoded data removed]",
      "text/plain": [
       "<Figure size 432x288 with 1 Axes>"
      ]
     },
     "metadata": {
      "needs_background": "light"
     },
     "output_type": "display_data"
    }
   ],
   "source": [
    "Range = range(1,101)\n",
    "sim_options = {'user_based': True }\n",
    "lst_User = []\n",
    "for i in Range:\n",
    "        algo1 = KNNBasic(k=i,sim_options=sim_options,verbose=False)\n",
    "        j= cross_validate(algo1,data,measures=['rmse', 'mae'],cv=5,verbose=False)\n",
    "        lst_User.append(j['test_rmse'].mean())\n",
    "        \n",
    "plt.plot(lst_User)"
   ]
  },
  {
   "cell_type": "markdown",
   "id": "0b0f7e42",
   "metadata": {},
   "source": [
    "## Item based CF"
   ]
  },
  {
   "cell_type": "code",
   "execution_count": 186,
   "id": "ec3f7693",
   "metadata": {},
   "outputs": [
    {
     "data": {
      "text/plain": [
       "[<matplotlib.lines.Line2D at 0x173522de670>]"
      ]
     },
     "execution_count": 186,
     "metadata": {},
     "output_type": "execute_result"
    },
    {
     "data": {
      "image/png": "[encoded data removed]",
      "text/plain": [
       "<Figure size 432x288 with 1 Axes>"
      ]
     },
     "metadata": {
      "needs_background": "light"
     },
     "output_type": "display_data"
    }
   ],
   "source": [
    "sim_options = {'user_based': False }\n",
    "lst_Item = []\n",
    "for i in range(1,100):\n",
    "        algo1 = KNNBasic(k=i,sim_options=sim_options,verbose=False)\n",
    "        j= cross_validate(algo1,data,measures=['rmse', 'mae'],cv=5,verbose=False)\n",
    "        lst_Item.append(j['test_rmse'].mean())\n",
    "        \n",
    "plt.plot(lst_Item)"
   ]
  },
  {
   "cell_type": "markdown",
   "id": "fe041c94",
   "metadata": {},
   "source": [
    "#### G) Identify the best number of neighbor (denoted by K) for User/Item based collaborative filtering in terms of RMSE. Is the best K of User based collaborative filtering the same with the best K of Item based collaborative filtering?"
   ]
  },
  {
   "cell_type": "code",
   "execution_count": 189,
   "id": "81556154",
   "metadata": {},
   "outputs": [],
   "source": [
    "K_min_for_Item = lst_Item.index(min(lst_Item))\n",
    "K_min_for_User = lst_User.index(min(lst_User))"
   ]
  },
  {
   "cell_type": "code",
   "execution_count": 190,
   "id": "701c366a",
   "metadata": {},
   "outputs": [
    {
     "data": {
      "text/plain": [
       "90"
      ]
     },
     "execution_count": 190,
     "metadata": {},
     "output_type": "execute_result"
    }
   ],
   "source": [
    "K_min_for_Item"
   ]
  },
  {
   "cell_type": "code",
   "execution_count": 191,
   "id": "6f4c48b8",
   "metadata": {},
   "outputs": [
    {
     "data": {
      "text/plain": [
       "14"
      ]
     },
     "execution_count": 191,
     "metadata": {},
     "output_type": "execute_result"
    }
   ],
   "source": [
    "K_min_for_User"
   ]
  },
  {
   "cell_type": "markdown",
   "id": "b2412619",
   "metadata": {},
   "source": [
    "### Ans G) Best K for User Based CF is 14 and for Item Based CF is 90"
   ]
  },
  {
   "cell_type": "code",
   "execution_count": 2,
   "id": "7468fa2c",
   "metadata": {},
   "outputs": [],
   "source": [
    "reader = Reader(line_format='user item rating timestamp',sep=',',skip_lines=1)\n",
    "data1 = Dataset.load_from_file(\"archive/ratings.csv\",reader)"
   ]
  },
  {
   "cell_type": "code",
   "execution_count": 3,
   "id": "6c54a0ac",
   "metadata": {},
   "outputs": [],
   "source": [
    "algo = SVD(biased=False,verbose=False)\n",
    "d = cross_validate(algo,data1,measures=['rmse', 'mae'],cv=5,verbose=False)"
   ]
  },
  {
   "cell_type": "code",
   "execution_count": 4,
   "id": "e01cc883",
   "metadata": {},
   "outputs": [
    {
     "data": {
      "text/plain": [
       "0.695118638582971"
      ]
     },
     "execution_count": 4,
     "metadata": {},
     "output_type": "execute_result"
    }
   ],
   "source": [
    "d['test_mae'].mean()"
   ]
  },
  {
   "cell_type": "code",
   "execution_count": 5,
   "id": "75cccd7c",
   "metadata": {},
   "outputs": [
    {
     "data": {
      "text/plain": [
       "0.92864448269517"
      ]
     },
     "execution_count": 5,
     "metadata": {},
     "output_type": "execute_result"
    }
   ],
   "source": [
    "d['test_rmse'].mean()"
   ]
  },
  {
   "cell_type": "code",
   "execution_count": null,
   "id": "c3244e5c",
   "metadata": {},
   "outputs": [],
   "source": []
  }
 ],
 "metadata": {
  "kernelspec": {
   "display_name": "Python 3 (ipykernel)",
   "language": "python",
   "name": "python3"
  },
  "language_info": {
   "codemirror_mode": {
    "name": "ipython",
    "version": 3
   },
   "file_extension": ".py",
   "mimetype": "text/x-python",
   "name": "python",
   "nbconvert_exporter": "python",
   "pygments_lexer": "ipython3",
   "version": "3.8.8"
  }
 },
 "nbformat": 4,
 "nbformat_minor": 5
}
