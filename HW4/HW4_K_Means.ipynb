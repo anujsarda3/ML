{
 "cells": [
  {
   "cell_type": "markdown",
   "id": "bc1032f2",
   "metadata": {},
   "source": [
    "# HW 4"
   ]
  },
  {
   "cell_type": "code",
   "execution_count": 33,
   "id": "bce194ec",
   "metadata": {},
   "outputs": [],
   "source": [
    "import pandas as pd\n",
    "import numpy as np\n",
    "import seaborn as sns\n",
    "import matplotlib.pyplot as plt\n",
    "from collections import Counter\n",
    "from sklearn.metrics import accuracy_score"
   ]
  },
  {
   "cell_type": "code",
   "execution_count": 34,
   "id": "4c8379ba",
   "metadata": {},
   "outputs": [],
   "source": [
    "X = pd.read_csv(\"hw4_kmeans_data/data.csv\",header=None)\n",
    "y = pd.read_csv('hw4_kmeans_data/label.csv',header=None,names=['Output'])\n",
    "y= np.array(y)"
   ]
  },
  {
   "cell_type": "markdown",
   "id": "a865ec7b",
   "metadata": {},
   "source": [
    "### - Function to calculate MANHATTAN DISTANCE"
   ]
  },
  {
   "cell_type": "code",
   "execution_count": 35,
   "id": "ae845e24",
   "metadata": {},
   "outputs": [],
   "source": [
    "def md(C_old,d):\n",
    "    return (abs(C_old - d)).sum(axis=1)"
   ]
  },
  {
   "cell_type": "markdown",
   "id": "cd101961",
   "metadata": {},
   "source": [
    "### - Function to calculate EUCLIDEAN DISTANCE"
   ]
  },
  {
   "cell_type": "code",
   "execution_count": 36,
   "id": "fff4614d",
   "metadata": {},
   "outputs": [],
   "source": [
    "def ed(C_old,X):\n",
    "    lst = []\n",
    "    for a in np.array(X):\n",
    "        lst.append(np.sqrt((np.square(np.array(C_old)-a)).sum(axis=1)))\n",
    "    return np.array(lst)"
   ]
  },
  {
   "cell_type": "markdown",
   "id": "5c7aa15e",
   "metadata": {},
   "source": [
    "### - Function to calculate COSINE DISTANCE"
   ]
  },
  {
   "cell_type": "code",
   "execution_count": 37,
   "id": "904926a8",
   "metadata": {},
   "outputs": [],
   "source": [
    "def cd(C_old,X):\n",
    "    lst = []\n",
    "    C = np.array(C_old)\n",
    "    for row in np.array(X):\n",
    "        D = []\n",
    "        for row1 in C:\n",
    "            D.append(1 - np.dot(row, row1) / (np.linalg.norm(row1) * np.linalg.norm(row)))\n",
    "        lst.append(D)\n",
    "    return np.array(lst)"
   ]
  },
  {
   "cell_type": "markdown",
   "id": "383bc1e6",
   "metadata": {},
   "source": [
    "### - Function to calculate JACCARD DISTANCE\n"
   ]
  },
  {
   "cell_type": "code",
   "execution_count": 38,
   "id": "cc83f047",
   "metadata": {},
   "outputs": [],
   "source": [
    "def jd(C_old,X):\n",
    "    FD = []\n",
    "    for row1 in np.array(X):\n",
    "        D = []\n",
    "        for row in np.array(C_old):\n",
    "            data = np.array([[row1], [row]])\n",
    "            D.append(1 - np.sum(data.min(axis=0)) / np.sum(data.max(axis=0)))\n",
    "        FD.append(D)\n",
    "    return np.array(FD)"
   ]
  },
  {
   "cell_type": "markdown",
   "id": "76f6525b",
   "metadata": {},
   "source": [
    "### - Function to predict output "
   ]
  },
  {
   "cell_type": "code",
   "execution_count": 59,
   "id": "3298e09b",
   "metadata": {},
   "outputs": [],
   "source": [
    "def pred(dist):\n",
    "    idxList = []\n",
    "    for itemList in dist:\n",
    "        val = np.argmin(itemList)\n",
    "        idxList.append(val)\n",
    "    return idxList"
   ]
  },
  {
   "cell_type": "markdown",
   "id": "1c1c5079",
   "metadata": {},
   "source": [
    "### - Function to predict SSE"
   ]
  },
  {
   "cell_type": "code",
   "execution_count": 79,
   "id": "b9ca5226",
   "metadata": {},
   "outputs": [],
   "source": [
    "def SSE(y_pred,X,C_old):\n",
    "    sse = 0\n",
    "    y_pred = np.array(y_pred)\n",
    "    C_old = np.array(C_old)\n",
    "    for i in range(10):\n",
    "        indexes = np.where(y_pred==i)\n",
    "        sse += np.sum((X[indexes] - C_old[i])**2)\n",
    "    return sse"
   ]
  },
  {
   "cell_type": "markdown",
   "id": "4649313c",
   "metadata": {},
   "source": [
    "### - Initializing 10 samples from the dataset into C_old variable"
   ]
  },
  {
   "cell_type": "code",
   "execution_count": 86,
   "id": "73b77bd2",
   "metadata": {},
   "outputs": [],
   "source": [
    "C_old = X.sample(n=10,random_state=5)\n",
    "C_old.reset_index(drop=True,inplace=True)"
   ]
  },
  {
   "cell_type": "markdown",
   "id": "e8477d9b",
   "metadata": {},
   "source": [
    "# Task 2 - Q1, Q2"
   ]
  },
  {
   "cell_type": "markdown",
   "id": "cd4358ec",
   "metadata": {},
   "source": [
    "## Euclidean Distance"
   ]
  },
  {
   "cell_type": "code",
   "execution_count": 81,
   "id": "1b8c739a",
   "metadata": {},
   "outputs": [
    {
     "name": "stdout",
     "output_type": "stream",
     "text": [
      "Final SSE: 25408220155.632545\n",
      "Total Iterations: 125\n"
     ]
    }
   ],
   "source": [
    "iterations = 0\n",
    "map_cluster_ids = np.zeros((10, 1))\n",
    "while True:\n",
    "    y_pred = []\n",
    "    dist = ed(C_old,X)\n",
    "    y_pred = pred(dist)\n",
    "    sse = SSE(y_pred,X.to_numpy(),C_old)\n",
    "    #y_pred_results.append(y_pred)\n",
    "    y_pred = pd.DataFrame(y_pred,columns=['Output '+str(iterations)])\n",
    "    C_new = X.join(y_pred).groupby(['Output '+str(iterations)]).mean()\n",
    "    iterations +=1\n",
    "    if C_old.equals(C_new):\n",
    "        break\n",
    "    else:\n",
    "        C_old = C_new\n",
    "\n",
    "print('Final SSE:', sse)\n",
    "\n",
    "print('Total Iterations:', iterations)\n",
    "for index in range(10):\n",
    "    cluster_id_indexes = np.where(y_pred==index)\n",
    "    label_counts = Counter(y[cluster_id_indexes])\n",
    "    map_cluster_ids[index] = label_counts.most_common(1)[0][0]\n",
    "\n",
    "y_pred = y_pred.to_numpy()\n",
    "y_pred_final = np.zeros_like(y_pred)\n",
    "for index, _ in enumerate(y_pred):\n",
    "    y_pred_final[index] = map_cluster_ids[y_pred[index]]"
   ]
  },
  {
   "cell_type": "code",
   "execution_count": 82,
   "id": "6ed651e7",
   "metadata": {},
   "outputs": [
    {
     "data": {
      "text/plain": [
       "0.5985"
      ]
     },
     "execution_count": 82,
     "metadata": {},
     "output_type": "execute_result"
    }
   ],
   "source": [
    "accuracy_score(y,y_pred_final)"
   ]
  },
  {
   "cell_type": "markdown",
   "id": "f98c1b93",
   "metadata": {},
   "source": [
    "## 1 - Cosine Similarity"
   ]
  },
  {
   "cell_type": "code",
   "execution_count": 84,
   "id": "807555ce",
   "metadata": {},
   "outputs": [
    {
     "name": "stdout",
     "output_type": "stream",
     "text": [
      "Final SSE: 25646606581.58381\n",
      "Total Iterations: 48\n"
     ]
    }
   ],
   "source": [
    "iterations = 0\n",
    "map_cluster_ids = np.zeros((10, 1))\n",
    "while True:\n",
    "    y_pred = []\n",
    "    dist = cd(C_old,X)\n",
    "    y_pred = pred(dist)\n",
    "    sse = SSE(y_pred,X.to_numpy(),C_old)\n",
    "    #y_pred_results.append(y_pred)\n",
    "    y_pred = pd.DataFrame(y_pred,columns=['Output '+str(iterations)])\n",
    "    C_new = X.join(y_pred).groupby(['Output '+str(iterations)]).mean()\n",
    "    iterations +=1\n",
    "    if C_old.equals(C_new):\n",
    "        break\n",
    "    else:\n",
    "        C_old = C_new\n",
    "\n",
    "print('Final SSE:', sse)\n",
    "\n",
    "print('Total Iterations:', iterations)\n",
    "for index in range(10):\n",
    "    cluster_id_indexes = np.where(y_pred==index)\n",
    "    label_counts = Counter(y[cluster_id_indexes])\n",
    "    map_cluster_ids[index] = label_counts.most_common(1)[0][0]\n",
    "\n",
    "y_pred = y_pred.to_numpy()\n",
    "y_pred_final = np.zeros_like(y_pred)\n",
    "for index, _ in enumerate(y_pred):\n",
    "    y_pred_final[index] = map_cluster_ids[y_pred[index]]"
   ]
  },
  {
   "cell_type": "code",
   "execution_count": 85,
   "id": "768b1e7b",
   "metadata": {},
   "outputs": [
    {
     "data": {
      "text/plain": [
       "0.6097"
      ]
     },
     "execution_count": 85,
     "metadata": {},
     "output_type": "execute_result"
    }
   ],
   "source": [
    "accuracy_score(y,y_pred_final)"
   ]
  },
  {
   "cell_type": "markdown",
   "id": "0b236d6c",
   "metadata": {},
   "source": [
    "# 1 - Jaccard Similarity"
   ]
  },
  {
   "cell_type": "code",
   "execution_count": 87,
   "id": "93ee7dae",
   "metadata": {},
   "outputs": [
    {
     "name": "stdout",
     "output_type": "stream",
     "text": [
      "Final SSE: 25610682625.748\n",
      "Total Iterations: 134\n"
     ]
    }
   ],
   "source": [
    "iterations = 0\n",
    "map_cluster_ids = np.zeros((10, 1))\n",
    "while True:\n",
    "    y_pred = []\n",
    "    dist = jd(C_old,X)\n",
    "    y_pred = pred(dist)\n",
    "    sse = SSE(y_pred,X.to_numpy(),C_old)\n",
    "    #y_pred_results.append(y_pred)\n",
    "    y_pred = pd.DataFrame(y_pred,columns=['Output '+str(iterations)])\n",
    "    C_new = X.join(y_pred).groupby(['Output '+str(iterations)]).mean()\n",
    "    iterations +=1\n",
    "    if C_old.equals(C_new):\n",
    "        break\n",
    "    else:\n",
    "        C_old = C_new\n",
    "\n",
    "print('Final SSE:', sse)\n",
    "\n",
    "print('Total Iterations:', iterations)\n",
    "for index in range(10):\n",
    "    cluster_id_indexes = np.where(y_pred==index)\n",
    "    label_counts = Counter(y[cluster_id_indexes])\n",
    "    map_cluster_ids[index] = label_counts.most_common(1)[0][0]\n",
    "\n",
    "y_pred = y_pred.to_numpy()\n",
    "y_pred_final = np.zeros_like(y_pred)\n",
    "for index, _ in enumerate(y_pred):\n",
    "    y_pred_final[index] = map_cluster_ids[y_pred[index]]"
   ]
  },
  {
   "cell_type": "code",
   "execution_count": 88,
   "id": "9872f663",
   "metadata": {},
   "outputs": [
    {
     "data": {
      "text/plain": [
       "0.5943"
      ]
     },
     "execution_count": 88,
     "metadata": {},
     "output_type": "execute_result"
    }
   ],
   "source": [
    "accuracy_score(y,y_pred_final)"
   ]
  },
  {
   "cell_type": "markdown",
   "id": "fb4589be",
   "metadata": {},
   "source": [
    "# Q4"
   ]
  },
  {
   "cell_type": "code",
   "execution_count": null,
   "id": "51ae5a22",
   "metadata": {},
   "outputs": [],
   "source": []
  }
 ],
 "metadata": {
  "kernelspec": {
   "display_name": "Python 3",
   "language": "python",
   "name": "python3"
  },
  "language_info": {
   "codemirror_mode": {
    "name": "ipython",
    "version": 3
   },
   "file_extension": ".py",
   "mimetype": "text/x-python",
   "name": "python",
   "nbconvert_exporter": "python",
   "pygments_lexer": "ipython3",
   "version": "3.8.8"
  }
 },
 "nbformat": 4,
 "nbformat_minor": 5
}
